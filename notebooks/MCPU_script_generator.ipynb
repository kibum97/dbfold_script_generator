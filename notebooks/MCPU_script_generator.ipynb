{
 "cells": [
  {
   "cell_type": "code",
   "execution_count": null,
   "id": "227c7cf4",
   "metadata": {},
   "outputs": [],
   "source": [
    "import sys\n",
    "sys.path.append('REPLACE with dbfold_script_generator path') # Add parent directory to path for local simulation and utils modules\n",
    "import simulation.simulation as sim\n",
    "import os"
   ]
  },
  {
   "cell_type": "code",
   "execution_count": null,
   "id": "1c1b6123",
   "metadata": {},
   "outputs": [
    {
     "name": "stdout",
     "output_type": "stream",
     "text": [
      "Umbrella sampling is enabled.\n",
      "Temperature replica exchange is enabled.\n"
     ]
    }
   ],
   "source": [
    "date = '202506' # Date is used to differentiate between different simulations of same protein\n",
    "pdbroot = '1uao' # PDB filename without .pdb extension, this will be used as an identifier for the protein during the simulation\n",
    "identifier = 'equil0' # This is to differentiate between different simulations of same protein; usually minimization, equilibration, and checkpoints\n",
    "simulation_path = f'/REPLACE with scratch folder path/{date}_{pdbroot}/' # This will be the main simulation directory, recommended to use scratch folder\n",
    "sim_generator = sim.Simulation(\n",
    "    pdbroot,\n",
    "    identifier, \n",
    "    simulation_path, # Main simultion directory (recommend to use scratch folder)\n",
    "    '/REPLACE with MCPU directory path', # Path to MCPU directory\n",
    "    umbrella=True, # Set to True if you want to use umbrella sampling\n",
    "    temperature_replica=True, # Set to True if you want to use temperature replica\n",
    "    constraint=False, # Set to True if you want to use constraints\n",
    ")"
   ]
  },
  {
   "cell_type": "code",
   "execution_count": 3,
   "id": "c26291d5",
   "metadata": {},
   "outputs": [
    {
     "name": "stdout",
     "output_type": "stream",
     "text": [
      "Maximum tempareture will be 1.0\n"
     ]
    },
    {
     "name": "stderr",
     "output_type": "stream",
     "text": [
      "/net/h-nfs15-p/data/shakhnovich_lab/share/users/kibumpark/envs/dbfoldtools/lib/python3.10/site-packages/mdtraj/formats/pdb/pdbfile.py:208: UserWarning: Unlikely unit cell vectors detected in PDB file likely resulting from a dummy CRYST1 record. Discarding unit cell vectors.\n",
      "  warnings.warn(\n",
      "/n/home01/kibumpark/group_folder/pkg/dbfold_script_generator/simulation/simulation.py:105: UserWarning: Temperature replica exchange is enabled. The number of replica steps and max exchange pairs will be set in the set_temperature_replica method.\n",
      "  warnings.warn('Temperature replica exchange is enabled. The number of replica steps and max exchange pairs will be set in the set_temperature_replica method.')\n"
     ]
    }
   ],
   "source": [
    "sim_generator.set_starting_structure(\n",
    "    f'{os.getcwd()}/pdb/{pdbroot}.pdb'\n",
    ") # This should be the absolute path to the PDB file of the starting structure\n",
    "sim_generator.set_native_structure(\n",
    "    f'{os.getcwd()}/pdb/{pdbroot}.pdb'\n",
    ") # This should be the absolute path to the PDB file of the native structure\n",
    "native_contacts = sim_generator.count_contacts_rounded(6)\n",
    "\n",
    "sim_generator.set_umbrella_sampling(\n",
    "    umbrella_max = native_contacts,\n",
    "    replica_steps = 10000,\n",
    "    umbrella_bias=0.02,\n",
    "    umbrella_spacing = 10\n",
    ")\n",
    "sim_generator.set_temperature_replica(0.4, 0.025, 25, 10000)\n",
    "\n",
    "sim_generator.set_montecarlo_parameters(\n",
    "    mc_steps = 1000000000,\n",
    "    log_steps = 1000000\n",
    ")\n",
    "sim_generator.set_slurm_resources(\n",
    "    job_name=pdbroot,\n",
    "    partition='shared',\n",
    "    time='3-00:00',\n",
    "    memory='144G',\n",
    "    cpu_per_node=112,\n",
    "    email='REPLACE_WITH_YOUR_EMAIL', # Replace with your email to receive notifications\n",
    ") # Modify slurm resources as needed"
   ]
  },
  {
   "cell_type": "code",
   "execution_count": 4,
   "id": "c8e207f1",
   "metadata": {},
   "outputs": [
    {
     "name": "stdout",
     "output_type": "stream",
     "text": [
      "Protein parameter files already exist. Skipping computation. If you want to recompute, please set recompute=True\n"
     ]
    },
    {
     "data": {
      "text/plain": [
       "0"
      ]
     },
     "execution_count": 4,
     "metadata": {},
     "output_type": "execute_result"
    }
   ],
   "source": [
    "sim_generator.compute_protein_parameters()"
   ]
  },
  {
   "cell_type": "code",
   "execution_count": 5,
   "id": "50842033",
   "metadata": {},
   "outputs": [],
   "source": [
    "sim_generator.generate_config(f'{simulation_path}/{identifier}/cfg')"
   ]
  },
  {
   "cell_type": "code",
   "execution_count": 6,
   "id": "d09c7c2e",
   "metadata": {},
   "outputs": [
    {
     "data": {
      "text/plain": [
       "0"
      ]
     },
     "execution_count": 6,
     "metadata": {},
     "output_type": "execute_result"
    }
   ],
   "source": [
    "sim_generator.generate_submission_script(f'{simulation_path}/{identifier}/MCPU.sh', 'src_mpi_umbrella/fold_potential_mpi')"
   ]
  },
  {
   "cell_type": "code",
   "execution_count": 7,
   "id": "aac4daf3",
   "metadata": {},
   "outputs": [
    {
     "name": "stdout",
     "output_type": "stream",
     "text": [
      "!!\n",
      "!! NATIVE PROTEIN DATA\n",
      "!!\n",
      "NATIVE_FILE                     /net/h-nfs15-p/data/shakhnovich_lab/share/users/kibumpark/pkg/dbfold_script_generator/notebooks/pdb/1uao.pdb\n",
      "STRUCTURE_FILE                  /net/h-nfs15-p/data/shakhnovich_lab/share/users/kibumpark/pkg/dbfold_script_generator/notebooks/pdb/1uao.pdb\n",
      "NATIVE_DIRECTORY                None\n",
      "TEMPLATE_FILE                   /n/home01/kibumpark/scratch_folder/MCPU/202506_1uao/nothing.template\n",
      "ALIGNMENT_FILE                  1lfb\n",
      "PDB_OUT_FILE                    /n/home01/kibumpark/scratch_folder/MCPU/202506_1uao/equil0/MCPU_run/1uao\n",
      "PROTEIN_NAME                    p1afvA\n",
      "!!\n",
      "!!\n",
      "!! POTENTIAL PARAMETERS\n",
      "!!\n",
      "NO_NEW_CLASHES                  1\n",
      "READ_POTENTIAL                  1Lfb\n",
      "USE_GO_POTENTIAL                0\n",
      "CLASH_WEIGHT                    0\n",
      "RMS_WEIGHT                      0\n",
      "HYDROGEN_BOND                   -2\n",
      "NATIVE_ATTRACTION               0\n",
      "NON_NATIVE_REPULSION            0\n",
      "NON_SPECIFIC_ENERGY             0\n",
      "!!\n",
      "!! CONTACT DEFINITION\n",
      "!!\n",
      "SKIP_LOCAL_CONTACT_RANGE        4\n",
      "SKIP_BB_CONTACT_RANGE           1000\n",
      "!!\n",
      "!! MONTE-CARLO PARAMETERS\n",
      "!!\n",
      "!!\n",
      "MC_STEPS                        1000000000\n",
      "MC_ANNEAL_STEPS                 200000000000000\n",
      "MC_PDB_PRINT_STEPS              1000000\n",
      "PRINT_PDB                       1\n",
      "MC_PRINT_STEPS                  1000000\n",
      "!!\n",
      "!! Replica Exchange Parameter\n",
      "!!\n",
      "MC_REPLICA_STEPS                10000\n",
      "MAX_EXCHANGE                    75\n",
      "!!\n",
      "!! SIMULATION PARAMETERS\n",
      "!!\n",
      "MC_TEMP_MIN                     0.4\n",
      "TEMP_STEP                       0.025\n",
      "NODES_PER_TEMP                  2\n",
      "ALPHA                           0.75\n",
      "LAMBDA                          1.8\n",
      "MC_STEP_SIZE                    2.0\n",
      "SIDECHAIN_MOVES                 1\n",
      "SIDECHAIN_NOISE                 10\n",
      "USE_GLOBAL_BB_MOVES             0\n",
      "YANG_MOVE                       0.5\n",
      "YANG_SCALE                      30\n",
      "USE_CLUSTER                     0\n",
      "MAX_CLUSTERSTEP                 0\n",
      "USE_SIDECHAINS                  1\n",
      "USE_ROTAMERS                    1\n",
      "USE_ROT_PROB                    0\n",
      "SEQ_DEP_HB                      1\n",
      "\n",
      "\n",
      "!!\n",
      "!! Umbrella parameters !!\n",
      "!!\n",
      "UMBRELLA                        1\n",
      "K_BIAS                          0.02\n",
      "NUMBER_OF_CONTACTS_MAX          10\n",
      "CONTACTS_STEP                   10\n",
      "MIN_SEQ_SEP                     8\n",
      "CONTACT_CALPHA_CUTOFF           6\n",
      "\n",
      "\n",
      "\n",
      "\n",
      "!! CONSTRAINT_RMSD is a new feature\n",
      "!!   MC simulation will not let RMSD exceed set value\n",
      "!!   A negative value means this feature is inactive\n",
      "CONSTRAINT_RMSD                 -1\n",
      "\n",
      "!!\n",
      "!! PARAMETER FILES\n",
      "!!\n",
      "TRIPLET_ENERGY_FILE             /n/home01/kibumpark/scratch_folder/MCPU/202506_1uao/1uao.triple\n",
      "SIDECHAIN_TORSION_FILE          /n/home01/kibumpark/scratch_folder/MCPU/202506_1uao/1uao.sctorsion\n",
      "SECONDARY_STRUCTURE_FILE        /n/home01/kibumpark/scratch_folder/MCPU/202506_1uao/1uao.sec_str\n",
      "!!\n",
      "AMINO_DATA_FILE                 /n/home01/kibumpark/group_folder/pkg/dbfold/MCPU/config_files/amino_torsion.data\n",
      "ROTAMER_DATA_FILE               /n/home01/kibumpark/group_folder/pkg/dbfold/MCPU/config_files/bbind02.May.lib\n",
      "ATOM_TYPE_FILE                  /n/home01/kibumpark/group_folder/pkg/dbfold/MCPU/config_files/twenty_res_typing\n",
      "HELICITY_DATA                   /n/home01/kibumpark/group_folder/pkg/dbfold/MCPU/config_files/T0130.seq\n",
      "HYDROGEN_BONDING_DATA           /n/home01/kibumpark/group_folder/pkg/dbfold/MCPU/config_files/hydrogen_jPL3h.data\n",
      "POTENTIAL_DATA                  /n/home01/kibumpark/group_folder/pkg/dbfold/MCPU/config_files/p178_conrange4_potential_0.995054\n",
      "AROMATIC_FILE                   /n/home01/kibumpark/group_folder/pkg/dbfold/MCPU/config_files/aromatic_noTYR.energy\n"
     ]
    },
    {
     "data": {
      "text/plain": [
       "0"
      ]
     },
     "execution_count": 7,
     "metadata": {},
     "output_type": "execute_result"
    }
   ],
   "source": [
    "sim_generator.print_config()"
   ]
  },
  {
   "cell_type": "code",
   "execution_count": 8,
   "id": "d090baab",
   "metadata": {},
   "outputs": [
    {
     "name": "stdout",
     "output_type": "stream",
     "text": [
      "#!/bin/bash\n",
      "#SBATCH -N 1\n",
      "#SBATCH -c 1\n",
      "#SBATCH -n 50\n",
      "#SBATCH -p sapphire\n",
      "#SBATCH -t 3-00:00\n",
      "#SBATCH --mem=900G\n",
      "#SBATCH -J 1uao\n",
      "#SBATCH -o 1uao_%j.out\n",
      "#SBATCH -e 1uao_%j.err\n",
      "#SBATCH --mail-type=ALL\n",
      "#SBATCH --mail-user=REPLACE_WITH_YOUR_EMAIL\n",
      "# This file can be anywhere, but the dir that contains the cfg file\n",
      "# must also have fold_potential_mpi. Then, the config_files dir should\n",
      "# be one level up from that one.\n",
      "\n",
      "module purge\n",
      "module load gcc/12.2.0-fasrc01 openmpi/4.1.4-fasrc01\n",
      "\n",
      "cd /n/home01/kibumpark/group_folder/pkg/dbfold/MCPU/src_mpi_umbrella/\n",
      "srun -n ${SLURM_NTASKS} --mpi=pmi2 /n/home01/kibumpark/group_folder/pkg/dbfold/MCPU/src_mpi_umbrella/fold_potential_mpi /n/home01/kibumpark/scratch_folder/MCPU/202506_1uao//equil0/cfg\n"
     ]
    },
    {
     "data": {
      "text/plain": [
       "0"
      ]
     },
     "execution_count": 8,
     "metadata": {},
     "output_type": "execute_result"
    }
   ],
   "source": [
    "sim_generator.print_slurm()"
   ]
  },
  {
   "cell_type": "code",
   "execution_count": null,
   "id": "5adf4617",
   "metadata": {},
   "outputs": [],
   "source": [
    "sim_generator.submit_slurm()"
   ]
  },
  {
   "cell_type": "code",
   "execution_count": null,
   "id": "250786f8",
   "metadata": {},
   "outputs": [],
   "source": []
  }
 ],
 "metadata": {
  "kernelspec": {
   "display_name": "dbfoldtools",
   "language": "python",
   "name": "python3"
  },
  "language_info": {
   "codemirror_mode": {
    "name": "ipython",
    "version": 3
   },
   "file_extension": ".py",
   "mimetype": "text/x-python",
   "name": "python",
   "nbconvert_exporter": "python",
   "pygments_lexer": "ipython3",
   "version": "3.10.18"
  }
 },
 "nbformat": 4,
 "nbformat_minor": 5
}
